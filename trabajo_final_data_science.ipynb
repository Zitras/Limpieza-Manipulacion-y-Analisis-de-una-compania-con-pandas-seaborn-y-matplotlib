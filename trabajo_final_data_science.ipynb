{
 "cells": [
  {
   "attachments": {},
   "cell_type": "markdown",
   "metadata": {},
   "source": [
    "<font size=\"4\">**1.** Importamos los archivos y cargamos las librerías</font>"
   ]
  },
  {
   "cell_type": "code",
   "execution_count": 1,
   "metadata": {},
   "outputs": [],
   "source": [
    "import pandas as pd\n",
    "import matplotlib.pyplot as plt\n",
    "import numpy as np\n",
    "import seaborn as sns"
   ]
  },
  {
   "cell_type": "code",
   "execution_count": 7,
   "metadata": {},
   "outputs": [],
   "source": [
    "m_clientes = pd.read_excel('maestro_clientes.xlsx')\n",
    "m_productos = pd.read_csv('maestro_productos.csv')\n",
    "sellin_total = pd.read_csv('sellin-total.csv')\n",
    "proveedor1 = pd.read_csv('sellout-proveedor1.csv')\n",
    "proveedor2 = pd.read_csv('sellout-proveedor2.csv')"
   ]
  },
  {
   "attachments": {},
   "cell_type": "markdown",
   "metadata": {},
   "source": [
    "<font size=\"4\">**2.** Exploramos 'm_clientes'</font>"
   ]
  },
  {
   "cell_type": "code",
   "execution_count": 44,
   "metadata": {},
   "outputs": [
    {
     "data": {
      "text/html": [
       "<div>\n",
       "<style scoped>\n",
       "    .dataframe tbody tr th:only-of-type {\n",
       "        vertical-align: middle;\n",
       "    }\n",
       "\n",
       "    .dataframe tbody tr th {\n",
       "        vertical-align: top;\n",
       "    }\n",
       "\n",
       "    .dataframe thead th {\n",
       "        text-align: right;\n",
       "    }\n",
       "</style>\n",
       "<table border=\"1\" class=\"dataframe\">\n",
       "  <thead>\n",
       "    <tr style=\"text-align: right;\">\n",
       "      <th></th>\n",
       "      <th>NUM TDA</th>\n",
       "      <th>NOMBRE DE TDA</th>\n",
       "      <th>CADENA</th>\n",
       "      <th>FORMATO</th>\n",
       "      <th>MUNICIPIO/CIUDAD</th>\n",
       "      <th>ESTADO</th>\n",
       "      <th>DIVISION</th>\n",
       "      <th>DEPOSITO / DISTRIBUIDOR</th>\n",
       "      <th>ESTRUCTURA</th>\n",
       "      <th>GRADO</th>\n",
       "    </tr>\n",
       "  </thead>\n",
       "  <tbody>\n",
       "    <tr>\n",
       "      <th>0</th>\n",
       "      <td>2</td>\n",
       "      <td>Bloody Sea Green BookShop</td>\n",
       "      <td>proveedor_1</td>\n",
       "      <td>Shop</td>\n",
       "      <td>Bizarre White Shop</td>\n",
       "      <td>Coalmar</td>\n",
       "      <td>SURESTE</td>\n",
       "      <td>Mogulval Corp.</td>\n",
       "      <td>DISTRIBUIDORES</td>\n",
       "      <td>VI</td>\n",
       "    </tr>\n",
       "    <tr>\n",
       "      <th>1</th>\n",
       "      <td>4</td>\n",
       "      <td>Funny Sky Blue GipsyTrade</td>\n",
       "      <td>proveedor_1</td>\n",
       "      <td>Shop</td>\n",
       "      <td>Bizarre White Shop</td>\n",
       "      <td>Coalmar</td>\n",
       "      <td>SURESTE</td>\n",
       "      <td>Mogulval Corp.</td>\n",
       "      <td>DISTRIBUIDORES</td>\n",
       "      <td>VI</td>\n",
       "    </tr>\n",
       "    <tr>\n",
       "      <th>2</th>\n",
       "      <td>5</td>\n",
       "      <td>Rare Green Laundrette</td>\n",
       "      <td>proveedor_1</td>\n",
       "      <td>Shop</td>\n",
       "      <td>Rare Orange Applepie</td>\n",
       "      <td>Coalmar</td>\n",
       "      <td>SURESTE</td>\n",
       "      <td>Eioval Aerospace</td>\n",
       "      <td>FORANEO</td>\n",
       "      <td>VI</td>\n",
       "    </tr>\n",
       "    <tr>\n",
       "      <th>3</th>\n",
       "      <td>6</td>\n",
       "      <td>Angry Indigo Center</td>\n",
       "      <td>proveedor_1</td>\n",
       "      <td>Shop</td>\n",
       "      <td>Rare Orange Applepie</td>\n",
       "      <td>Coalmar</td>\n",
       "      <td>SURESTE</td>\n",
       "      <td>Eioval Aerospace</td>\n",
       "      <td>FORANEO</td>\n",
       "      <td>VI</td>\n",
       "    </tr>\n",
       "    <tr>\n",
       "      <th>4</th>\n",
       "      <td>7</td>\n",
       "      <td>Tall Violet Deli</td>\n",
       "      <td>proveedor_1</td>\n",
       "      <td>Shop</td>\n",
       "      <td>Rare Orange Applepie</td>\n",
       "      <td>Coalmar</td>\n",
       "      <td>SURESTE</td>\n",
       "      <td>Eioval Aerospace</td>\n",
       "      <td>FORANEO</td>\n",
       "      <td>VI</td>\n",
       "    </tr>\n",
       "  </tbody>\n",
       "</table>\n",
       "</div>"
      ],
      "text/plain": [
       "   NUM TDA              NOMBRE DE TDA       CADENA FORMATO   \n",
       "0        2  Bloody Sea Green BookShop  proveedor_1    Shop  \\\n",
       "1        4  Funny Sky Blue GipsyTrade  proveedor_1    Shop   \n",
       "2        5      Rare Green Laundrette  proveedor_1    Shop   \n",
       "3        6        Angry Indigo Center  proveedor_1    Shop   \n",
       "4        7           Tall Violet Deli  proveedor_1    Shop   \n",
       "\n",
       "       MUNICIPIO/CIUDAD   ESTADO DIVISION DEPOSITO / DISTRIBUIDOR   \n",
       "0    Bizarre White Shop  Coalmar  SURESTE          Mogulval Corp.  \\\n",
       "1    Bizarre White Shop  Coalmar  SURESTE          Mogulval Corp.   \n",
       "2  Rare Orange Applepie  Coalmar  SURESTE        Eioval Aerospace   \n",
       "3  Rare Orange Applepie  Coalmar  SURESTE        Eioval Aerospace   \n",
       "4  Rare Orange Applepie  Coalmar  SURESTE        Eioval Aerospace   \n",
       "\n",
       "       ESTRUCTURA GRADO  \n",
       "0  DISTRIBUIDORES    VI  \n",
       "1  DISTRIBUIDORES    VI  \n",
       "2         FORANEO    VI  \n",
       "3         FORANEO    VI  \n",
       "4         FORANEO    VI  "
      ]
     },
     "execution_count": 44,
     "metadata": {},
     "output_type": "execute_result"
    }
   ],
   "source": [
    "#Exploramos clientes\n",
    "m_clientes.head(5)"
   ]
  },
  {
   "cell_type": "code",
   "execution_count": null,
   "metadata": {},
   "outputs": [],
   "source": [
    "#Observamos que hay 4 identificadores repetidos: 2568, 143, 240 y 58\n",
    "counts = m_clientes['NUM TDA'].value_counts()\n",
    "repeated_values = counts[counts > 1]\n",
    "print(repeated_values)\n",
    "#Pero comprobamos esos valores y vemos que, \n",
    "# pese a que su numero de identificacion coincide, hay diferencias entre las tiendas.\n",
    "lista_valores = [2568, 143, 240, 58]\n",
    "condicion = m_clientes['NUM TDA'].isin(lista_valores)\n",
    "m_clientes[condicion].sort_values('NUM TDA')"
   ]
  },
  {
   "cell_type": "code",
   "execution_count": null,
   "metadata": {},
   "outputs": [],
   "source": [
    "conteo_nombres = m_clientes['NOMBRE DE TDA'].value_counts()\n",
    "\n",
    "# Vemos que la mayoría aparecen solo una vez\n",
    "fig, ax = plt.subplots()\n",
    "conteo.plot.bar(ax=ax)\n",
    "ax.set_xlabel('Nombre de la TDA')\n",
    "ax.set_ylabel('Conteo')\n",
    "ax.set_title('Conteo de apariciones por TDA')\n",
    "plt.show()"
   ]
  },
  {
   "cell_type": "code",
   "execution_count": 60,
   "metadata": {},
   "outputs": [
    {
     "data": {
      "text/plain": [
       "CADENA\n",
       "proveedor_2    2215\n",
       "proveedor_1     237\n",
       "Name: count, dtype: int64"
      ]
     },
     "execution_count": 60,
     "metadata": {},
     "output_type": "execute_result"
    }
   ],
   "source": [
    "conteo_cadena = m_clientes['CADENA'].value_counts()\n",
    "conteo_cadena"
   ]
  },
  {
   "cell_type": "code",
   "execution_count": null,
   "metadata": {},
   "outputs": [],
   "source": []
  }
 ],
 "metadata": {
  "kernelspec": {
   "display_name": "Python 3",
   "language": "python",
   "name": "python3"
  },
  "language_info": {
   "codemirror_mode": {
    "name": "ipython",
    "version": 3
   },
   "file_extension": ".py",
   "mimetype": "text/x-python",
   "name": "python",
   "nbconvert_exporter": "python",
   "pygments_lexer": "ipython3",
   "version": "3.11.3"
  },
  "orig_nbformat": 4
 },
 "nbformat": 4,
 "nbformat_minor": 2
}
