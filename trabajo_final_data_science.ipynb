{
 "cells": [
  {
   "attachments": {},
   "cell_type": "markdown",
   "metadata": {},
   "source": [
    "<font size=\"4\">**1.** Importamos los archivos y cargamos las librerías</font>"
   ]
  },
  {
   "cell_type": "code",
   "execution_count": 2,
   "metadata": {},
   "outputs": [],
   "source": [
    "import pandas as pd\n",
    "import matplotlib.pyplot as plt\n",
    "import numpy as np\n",
    "import seaborn as sns"
   ]
  },
  {
   "cell_type": "code",
   "execution_count": 3,
   "metadata": {},
   "outputs": [],
   "source": [
    "m_clientes = pd.read_excel('maestro_clientes.xlsx')\n",
    "m_productos = pd.read_csv('maestro_productos.csv')\n",
    "sellin_total = pd.read_csv('sellin-total.csv')\n",
    "proveedor1 = pd.read_csv('sellout-proveedor1.csv')\n",
    "proveedor2 = pd.read_csv('sellout-proveedor2.csv')"
   ]
  },
  {
   "attachments": {},
   "cell_type": "markdown",
   "metadata": {},
   "source": [
    "<font size=\"4\">**2.** Exploramos 'm_clientes'</font>"
   ]
  },
  {
   "cell_type": "code",
   "execution_count": null,
   "metadata": {},
   "outputs": [],
   "source": [
    "#Observamos que hay 4 identificadores repetidos: 2568, 143, 240 y 58\n",
    "counts = m_clientes['NUM TDA'].value_counts()\n",
    "repeated_values = counts[counts > 1]\n",
    "print(repeated_values)\n",
    "#Pero comprobamos esos valores y vemos que, \n",
    "# pese a que su numero de identificacion coincide, hay diferencias entre las tiendas.\n",
    "lista_valores = [2568, 143, 240, 58]\n",
    "condicion = m_clientes['NUM TDA'].isin(lista_valores)\n",
    "m_clientes[condicion].sort_values('NUM TDA')"
   ]
  },
  {
   "cell_type": "code",
   "execution_count": null,
   "metadata": {},
   "outputs": [],
   "source": [
    "conteo_nombres = m_clientes['NOMBRE DE TDA'].value_counts()\n",
    "\n",
    "# Vemos que la mayoría aparecen solo una vez\n",
    "fig, ax = plt.subplots()\n",
    "conteo.plot.bar(ax=ax)\n",
    "ax.set_xlabel('Nombre de la TDA')\n",
    "ax.set_ylabel('Conteo')\n",
    "ax.set_title('Conteo de apariciones por TDA')\n",
    "plt.show()"
   ]
  },
  {
   "cell_type": "code",
   "execution_count": null,
   "metadata": {},
   "outputs": [],
   "source": [
    "\n",
    "print(\"\\n Conteo de valores para 'FORMATO':\")\n",
    "print(conteo_formato)\n",
    "\n",
    "print(\"\\n Conteo de valores para 'MUNICIPIO/CIUDAD':\")\n",
    "print(conteo_ciudad)\n",
    "\n",
    "print(\"\\n Conteo de valores para 'ESTADO':\")\n",
    "print(conteo_estado)\n",
    "\n",
    "print(\"\\n Conteo de valores para 'DIVISION':\")\n",
    "print(conteo_division)\n",
    "\n",
    "print(\"\\n Conteo de valores para 'DEPOSITO / DISTRIBUIDOR':\")\n",
    "print(conteo_distribuidor)\n",
    "\n",
    "print(\"\\n Conteo de valores para 'ESTRUCTURA':\")\n",
    "print(conteo_estructura)\n",
    "\n",
    "print(\"\\n CIPOTE GORDO:\")\n",
    "print(conteo_grado)"
   ]
  },
  {
   "cell_type": "code",
   "execution_count": null,
   "metadata": {},
   "outputs": [],
   "source": [
    "#Evaluemos si hay NaN\n",
    "hay_na = m_clientes.isna().any()\n",
    "print(hay_na)"
   ]
  },
  {
   "cell_type": "code",
   "execution_count": null,
   "metadata": {},
   "outputs": [],
   "source": [
    "#Comprobamos que la columna 'Store_Id' coincide con 'NUM TDA' , por lo que habrá que cambiarle el nombre\n",
    "values_sellin = sellin_total.Store_Id.sort_values()\n",
    "values_clientes = m_clientes['NUM TDA'].sort_values()\n",
    "values_prov1 = proveedor1.Store_Id.sort_values()\n",
    "values_prov2 = proveedor2.Store_Id.sort_values()\n",
    "print(f\"Valores sellin : {values_sellin}\")\n",
    "print(f\"\\n Valores clientes : {values_clientes}\")\n",
    "print(f\"Valores proveedor1 : {values_prov1}\")\n",
    "print(f\"Valores proveedor2 : {values_prov2}\")\n"
   ]
  },
  {
   "attachments": {},
   "cell_type": "markdown",
   "metadata": {},
   "source": [
    "<font size=\"4\">**3.** Exploramos 'm_productos'</font>"
   ]
  },
  {
   "cell_type": "code",
   "execution_count": 5,
   "metadata": {},
   "outputs": [
    {
     "name": "stdout",
     "output_type": "stream",
     "text": [
      "     Sku      Sku_Description   Sku_Category Sku_Subcategory\n",
      "0  11058       Frosted Mango      Sugar-free     Cereal bars\n",
      "1  29207  Nut Cheerios Mango   Super-flavour      Cereal box\n",
      "2  38379    MultiGrain Mango      Sugar-free     Cereal bars\n",
      "3  42671        Crunch Mango      Sugar-free     Cereal bars\n",
      "4  54644          Corn Mango      Sugar-free     Cereal bars\n",
      "<class 'pandas.core.frame.DataFrame'>\n",
      "RangeIndex: 1242 entries, 0 to 1241\n",
      "Data columns (total 4 columns):\n",
      " #   Column           Non-Null Count  Dtype \n",
      "---  ------           --------------  ----- \n",
      " 0   Sku              1242 non-null   int64 \n",
      " 1   Sku_Description  1242 non-null   object\n",
      " 2   Sku_Category     1242 non-null   object\n",
      " 3   Sku_Subcategory  1242 non-null   object\n",
      "dtypes: int64(1), object(3)\n",
      "memory usage: 38.9+ KB\n",
      "None\n"
     ]
    }
   ],
   "source": [
    "print(m_productos.head())\n",
    "print(m_productos.info())"
   ]
  },
  {
   "cell_type": "code",
   "execution_count": 23,
   "metadata": {},
   "outputs": [
    {
     "name": "stdout",
     "output_type": "stream",
     "text": [
      "Sku                False\n",
      "Sku_Description    False\n",
      "Sku_Category       False\n",
      "Sku_Subcategory    False\n",
      "dtype: bool\n"
     ]
    }
   ],
   "source": [
    "#Evaluemos si hay NaN\n",
    "hay_na = m_productos.isna().any()\n",
    "print(hay_na)"
   ]
  },
  {
   "cell_type": "code",
   "execution_count": 7,
   "metadata": {},
   "outputs": [
    {
     "name": "stdout",
     "output_type": "stream",
     "text": [
      "Sku_Description\n",
      "Frosted Mango                       1\n",
      "Frosted cherry                      1\n",
      "Peanut Butter cherry                1\n",
      "Sugar cherry                        1\n",
      "Graham cherry                       1\n",
      "                                   ..\n",
      "Fruit & Bran Chocolate              1\n",
      "Double Dip Crunch Chocolate         1\n",
      "Crunchy Nut Cornflakes Chocolate    1\n",
      "Crunchy Bran Chocolate              1\n",
      "Gorilla Chilifest Chocolate         1\n",
      "Name: count, Length: 1242, dtype: int64\n"
     ]
    }
   ],
   "source": [
    "#Evaluemos si hay Duplicados\n",
    "hay_na = m_productos.Sku_Description.value_counts()\n",
    "print(hay_na)"
   ]
  },
  {
   "cell_type": "code",
   "execution_count": 29,
   "metadata": {},
   "outputs": [
    {
     "name": "stdout",
     "output_type": "stream",
     "text": [
      "Sku_Category\n",
      "Sugar-free       961\n",
      "Super-flavour    281\n",
      "Name: count, dtype: int64\n"
     ]
    }
   ],
   "source": [
    "#Veamos las categorías. Solo hay 2: Sugar-free Super-flavour\n",
    "categorias = m_productos.Sku_Category.value_counts()\n",
    "print(categorias)"
   ]
  },
  {
   "cell_type": "code",
   "execution_count": 30,
   "metadata": {},
   "outputs": [
    {
     "name": "stdout",
     "output_type": "stream",
     "text": [
      "Sku_Subcategory\n",
      "Cereal box     887\n",
      "Cereal bars    354\n",
      "LECHES UHT       1\n",
      "Name: count, dtype: int64\n"
     ]
    }
   ],
   "source": [
    "#Veamos las subcategorías. Hay 2 e incluye LECHES UHT\n",
    "categorias = m_productos.Sku_Subcategory.value_counts()\n",
    "print(categorias)"
   ]
  },
  {
   "cell_type": "code",
   "execution_count": 9,
   "metadata": {},
   "outputs": [
    {
     "name": "stdout",
     "output_type": "stream",
     "text": [
      "         Sku Sku_Description Sku_Category Sku_Subcategory\n",
      "499  5007624       Corn Orio   Sugar-free      LECHES UHT\n",
      "         Sku Sku_Description Sku_Category Sku_Subcategory\n",
      "499  5007624       Corn Orio   Sugar-free      LECHES UHT\n"
     ]
    }
   ],
   "source": [
    "condicion = m_productos['Sku_Subcategory'] == 'LECHES UHT'\n",
    "print(m_productos[condicion])\n",
    "condicion2 = m_productos['Sku'] == 5007624\n",
    "print(m_productos[condicion2])"
   ]
  },
  {
   "attachments": {},
   "cell_type": "markdown",
   "metadata": {},
   "source": [
    "<font size=\"4\">**4.** Exploramos 'sellin_total'</font>"
   ]
  },
  {
   "cell_type": "code",
   "execution_count": 14,
   "metadata": {},
   "outputs": [
    {
     "name": "stdout",
     "output_type": "stream",
     "text": [
      "<class 'pandas.core.frame.DataFrame'>\n",
      "RangeIndex: 4188783 entries, 0 to 4188782\n",
      "Data columns (total 6 columns):\n",
      " #   Column    Dtype  \n",
      "---  ------    -----  \n",
      " 0   Sku       int64  \n",
      " 1   Date      object \n",
      " 2   Store_Id  int64  \n",
      " 3   Pieces    float64\n",
      " 4   Price     float64\n",
      " 5   Margin    float64\n",
      "dtypes: float64(3), int64(2), object(1)\n",
      "memory usage: 191.7+ MB\n"
     ]
    }
   ],
   "source": [
    "sellin_total.info()"
   ]
  },
  {
   "cell_type": "code",
   "execution_count": 10,
   "metadata": {},
   "outputs": [
    {
     "data": {
      "text/html": [
       "<div>\n",
       "<style scoped>\n",
       "    .dataframe tbody tr th:only-of-type {\n",
       "        vertical-align: middle;\n",
       "    }\n",
       "\n",
       "    .dataframe tbody tr th {\n",
       "        vertical-align: top;\n",
       "    }\n",
       "\n",
       "    .dataframe thead th {\n",
       "        text-align: right;\n",
       "    }\n",
       "</style>\n",
       "<table border=\"1\" class=\"dataframe\">\n",
       "  <thead>\n",
       "    <tr style=\"text-align: right;\">\n",
       "      <th></th>\n",
       "      <th>Sku</th>\n",
       "      <th>Date</th>\n",
       "      <th>Store_Id</th>\n",
       "      <th>Pieces</th>\n",
       "      <th>Price</th>\n",
       "      <th>Margin</th>\n",
       "    </tr>\n",
       "  </thead>\n",
       "  <tbody>\n",
       "    <tr>\n",
       "      <th>0</th>\n",
       "      <td>4220015</td>\n",
       "      <td>02/01/2015</td>\n",
       "      <td>100</td>\n",
       "      <td>20.0</td>\n",
       "      <td>13.01</td>\n",
       "      <td>9.78</td>\n",
       "    </tr>\n",
       "    <tr>\n",
       "      <th>1</th>\n",
       "      <td>4220015</td>\n",
       "      <td>02/01/2015</td>\n",
       "      <td>116</td>\n",
       "      <td>20.0</td>\n",
       "      <td>13.01</td>\n",
       "      <td>9.78</td>\n",
       "    </tr>\n",
       "    <tr>\n",
       "      <th>2</th>\n",
       "      <td>4220015</td>\n",
       "      <td>02/01/2015</td>\n",
       "      <td>141</td>\n",
       "      <td>80.0</td>\n",
       "      <td>13.01</td>\n",
       "      <td>9.78</td>\n",
       "    </tr>\n",
       "    <tr>\n",
       "      <th>3</th>\n",
       "      <td>4220015</td>\n",
       "      <td>02/01/2015</td>\n",
       "      <td>146</td>\n",
       "      <td>10.0</td>\n",
       "      <td>13.01</td>\n",
       "      <td>9.78</td>\n",
       "    </tr>\n",
       "    <tr>\n",
       "      <th>4</th>\n",
       "      <td>4220015</td>\n",
       "      <td>02/01/2015</td>\n",
       "      <td>151</td>\n",
       "      <td>20.0</td>\n",
       "      <td>13.09</td>\n",
       "      <td>9.87</td>\n",
       "    </tr>\n",
       "  </tbody>\n",
       "</table>\n",
       "</div>"
      ],
      "text/plain": [
       "       Sku        Date  Store_Id  Pieces  Price  Margin\n",
       "0  4220015  02/01/2015       100    20.0  13.01    9.78\n",
       "1  4220015  02/01/2015       116    20.0  13.01    9.78\n",
       "2  4220015  02/01/2015       141    80.0  13.01    9.78\n",
       "3  4220015  02/01/2015       146    10.0  13.01    9.78\n",
       "4  4220015  02/01/2015       151    20.0  13.09    9.87"
      ]
     },
     "execution_count": 10,
     "metadata": {},
     "output_type": "execute_result"
    }
   ],
   "source": [
    "sellin_total.head()"
   ]
  },
  {
   "cell_type": "code",
   "execution_count": 27,
   "metadata": {},
   "outputs": [
    {
     "name": "stdout",
     "output_type": "stream",
     "text": [
      "Sku\n",
      "4381425    271548\n",
      "4779537    256414\n",
      "4442378    250666\n",
      "4240039    245164\n",
      "4769520    239512\n",
      "4230022    227879\n",
      "4351043    215167\n",
      "4250046    207055\n",
      "4554143    203715\n",
      "4330800    200072\n",
      "4789544    192238\n",
      "4533931    172020\n",
      "4523924    151961\n",
      "4809797    147775\n",
      "4361050    133646\n",
      "4615034    132413\n",
      "4665676    127974\n",
      "4655669    109360\n",
      "4220015     99834\n",
      "4574433     97343\n",
      "4819810     94454\n",
      "4625287     76690\n",
      "4543948     69335\n",
      "4829827     52691\n",
      "4432194     37545\n",
      "4709131     36402\n",
      "4422187     35836\n",
      "4260053     31058\n",
      "4697052     25974\n",
      "4729193     18407\n",
      "4675706     16782\n",
      "4719179      5726\n",
      "4749421      3210\n",
      "4739414      2917\n",
      "Name: count, dtype: int64,\n",
      " \n",
      " Date\n",
      "13/12/2016    7860\n",
      "02/05/2017    7598\n",
      "03/11/2015    7557\n",
      "17/11/2015    7503\n",
      "18/04/2016    7495\n",
      "              ... \n",
      "25/03/2016     502\n",
      "22/01/2017      51\n",
      "04/09/2016      50\n",
      "05/07/2015      29\n",
      "14/02/2016      15\n",
      "Name: count, Length: 757, dtype: int64, \n",
      " \n",
      " Store_Id\n",
      "2345    9591\n",
      "3897    8870\n",
      "3846    8835\n",
      "232     8730\n",
      "2382    8631\n",
      "        ... \n",
      "2947       1\n",
      "3746       1\n",
      "3489       1\n",
      "5425       1\n",
      "2774       1\n",
      "Name: count, Length: 1624, dtype: int64, \n",
      " \n",
      " Pieces\n",
      "10.80       285110\n",
      "6.75        197807\n",
      "12.00       197727\n",
      "24.00       193850\n",
      "4.80        185424\n",
      "             ...  \n",
      "847.35           1\n",
      "831.15           1\n",
      "830.70           1\n",
      "830.25           1\n",
      "36000.00         1\n",
      "Name: count, Length: 3833, dtype: int64, \n",
      " \n",
      " Price\n",
      "36.06    145103\n",
      "36.23    128678\n",
      "35.77    110964\n",
      "35.54    107444\n",
      "35.37     99558\n",
      "          ...  \n",
      "45.47         3\n",
      "46.40         3\n",
      "13.21         2\n",
      "46.90         2\n",
      "36.19         1\n",
      "Name: count, Length: 279, dtype: int64, \n",
      " \n",
      " Margin\n",
      "9.84     78362\n",
      "9.36     69146\n",
      "9.41     64517\n",
      "9.53     63189\n",
      "12.48    60411\n",
      "         ...  \n",
      "8.45         1\n",
      "29.69        1\n",
      "12.09        1\n",
      "8.09         1\n",
      "12.80        1\n",
      "Name: count, Length: 483, dtype: int64\n"
     ]
    }
   ],
   "source": [
    "sku = sellin_total.Sku.sort_values().value_counts()\n",
    "date = sellin_total.Date.sort_values().value_counts()\n",
    "storeid = sellin_total.Store_Id.sort_values().value_counts()\n",
    "pieces = sellin_total.Pieces.sort_values().value_counts()\n",
    "price = sellin_total.Price.sort_values().value_counts()\n",
    "margin = sellin_total.Margin.sort_values().value_counts()\n",
    "print(f\"{sku},\\n \\n {date}, \\n \\n {storeid}, \\n \\n {pieces}, \\n \\n {price}, \\n \\n {margin}\")"
   ]
  },
  {
   "cell_type": "code",
   "execution_count": 28,
   "metadata": {},
   "outputs": [
    {
     "name": "stdout",
     "output_type": "stream",
     "text": [
      "             Sku        Date  Store_Id  Pieces  Price  Margin\n",
      "24       4220015  02/01/2015      1161     0.0  12.59    9.36\n",
      "136      4220015  02/01/2015      5843     0.0  12.72    9.49\n",
      "171      4220015  03/01/2015      1202     0.0  12.59    9.36\n",
      "279      4220015  03/01/2015      4128     0.0  12.59    9.36\n",
      "438      4220015  05/01/2015      5730     0.0  12.59    9.36\n",
      "...          ...         ...       ...     ...    ...     ...\n",
      "4188052  4829827  17/05/2017      2093     0.0  20.51   14.62\n",
      "4188207  4829827  19/05/2017      3776     0.0  20.51   14.62\n",
      "4188281  4829827  20/05/2017      3834     0.0  20.51   14.62\n",
      "4188404  4829827  23/05/2017      3857     0.0  20.51   14.62\n",
      "4188601  4829827  29/05/2017      1124     0.0  20.51   14.62\n",
      "\n",
      "[46950 rows x 6 columns]\n"
     ]
    }
   ],
   "source": [
    "condicion = sellin_total.Pieces == 0\n",
    "print(sellin_total[condicion])\n"
   ]
  },
  {
   "attachments": {},
   "cell_type": "markdown",
   "metadata": {},
   "source": [
    "<font size=\"4\">**5.** Exploramos 'proveedor1 y proveedor2'</font>"
   ]
  },
  {
   "cell_type": "code",
   "execution_count": 49,
   "metadata": {},
   "outputs": [
    {
     "name": "stdout",
     "output_type": "stream",
     "text": [
      "<class 'pandas.core.frame.DataFrame'>\n",
      "RangeIndex: 1206365 entries, 0 to 1206364\n",
      "Data columns (total 5 columns):\n",
      " #   Column    Non-Null Count    Dtype  \n",
      "---  ------    --------------    -----  \n",
      " 0   Sku       1206365 non-null  int64  \n",
      " 1   Date      1206365 non-null  object \n",
      " 2   Store_Id  1206365 non-null  int64  \n",
      " 3   Units     1206365 non-null  float64\n",
      " 4   Price     1206365 non-null  float64\n",
      "dtypes: float64(2), int64(2), object(1)\n",
      "memory usage: 46.0+ MB\n"
     ]
    },
    {
     "data": {
      "text/html": [
       "<div>\n",
       "<style scoped>\n",
       "    .dataframe tbody tr th:only-of-type {\n",
       "        vertical-align: middle;\n",
       "    }\n",
       "\n",
       "    .dataframe tbody tr th {\n",
       "        vertical-align: top;\n",
       "    }\n",
       "\n",
       "    .dataframe thead th {\n",
       "        text-align: right;\n",
       "    }\n",
       "</style>\n",
       "<table border=\"1\" class=\"dataframe\">\n",
       "  <thead>\n",
       "    <tr style=\"text-align: right;\">\n",
       "      <th></th>\n",
       "      <th>Sku</th>\n",
       "      <th>Date</th>\n",
       "      <th>Store_Id</th>\n",
       "      <th>Units</th>\n",
       "      <th>Price</th>\n",
       "    </tr>\n",
       "  </thead>\n",
       "  <tbody>\n",
       "    <tr>\n",
       "      <th>0</th>\n",
       "      <td>4220015</td>\n",
       "      <td>2017-01-01 SO Diaria Piezas</td>\n",
       "      <td>18</td>\n",
       "      <td>6.0</td>\n",
       "      <td>15.6</td>\n",
       "    </tr>\n",
       "    <tr>\n",
       "      <th>1</th>\n",
       "      <td>4220015</td>\n",
       "      <td>2017-01-01 SO Diaria Piezas</td>\n",
       "      <td>24</td>\n",
       "      <td>0.0</td>\n",
       "      <td>0.0</td>\n",
       "    </tr>\n",
       "    <tr>\n",
       "      <th>2</th>\n",
       "      <td>4220015</td>\n",
       "      <td>2017-01-01 SO Diaria Piezas</td>\n",
       "      <td>39</td>\n",
       "      <td>0.0</td>\n",
       "      <td>0.0</td>\n",
       "    </tr>\n",
       "    <tr>\n",
       "      <th>3</th>\n",
       "      <td>4220015</td>\n",
       "      <td>2017-01-01 SO Diaria Piezas</td>\n",
       "      <td>44</td>\n",
       "      <td>0.0</td>\n",
       "      <td>0.0</td>\n",
       "    </tr>\n",
       "    <tr>\n",
       "      <th>4</th>\n",
       "      <td>4220015</td>\n",
       "      <td>2017-01-01 SO Diaria Piezas</td>\n",
       "      <td>46</td>\n",
       "      <td>0.0</td>\n",
       "      <td>0.0</td>\n",
       "    </tr>\n",
       "  </tbody>\n",
       "</table>\n",
       "</div>"
      ],
      "text/plain": [
       "       Sku                         Date  Store_Id  Units  Price\n",
       "0  4220015  2017-01-01 SO Diaria Piezas        18    6.0   15.6\n",
       "1  4220015  2017-01-01 SO Diaria Piezas        24    0.0    0.0\n",
       "2  4220015  2017-01-01 SO Diaria Piezas        39    0.0    0.0\n",
       "3  4220015  2017-01-01 SO Diaria Piezas        44    0.0    0.0\n",
       "4  4220015  2017-01-01 SO Diaria Piezas        46    0.0    0.0"
      ]
     },
     "execution_count": 49,
     "metadata": {},
     "output_type": "execute_result"
    }
   ],
   "source": [
    "info = proveedor1.info()\n",
    "head = proveedor1.head()\n",
    "head"
   ]
  },
  {
   "cell_type": "code",
   "execution_count": 55,
   "metadata": {},
   "outputs": [
    {
     "data": {
      "text/plain": [
       "1019837   -190.050000\n",
       "643556    -106.000000\n",
       "1166200    -71.560000\n",
       "1127829    -29.880000\n",
       "629173     -25.200000\n",
       "              ...    \n",
       "996751     584.250000\n",
       "460058     644.422222\n",
       "1029464    649.866667\n",
       "1033149    835.177778\n",
       "1036804    871.933333\n",
       "Name: Price, Length: 1206365, dtype: float64"
      ]
     },
     "execution_count": 55,
     "metadata": {},
     "output_type": "execute_result"
    }
   ],
   "source": [
    "sorted_date = proveedor1.Date.sort_values()\n",
    "store1 = proveedor1.Store_Id.sort_values()\n",
    "units1 = proveedor1.Units.sort_values()\n",
    "price1 = proveedor1.Price.sort_values()\n",
    "\n",
    "price1"
   ]
  },
  {
   "cell_type": "code",
   "execution_count": null,
   "metadata": {},
   "outputs": [],
   "source": [
    "#Comprobemos cuantas unidades negativas hay en proveedor1\n",
    "condicion1 = proveedor1.Units < 0\n",
    "print(proveedor1[condicion1])\n",
    "#Comprobemos cuantos precios estan en negativo en proveedor2\n",
    "condicion2 = proveedor1.Price < 0\n",
    "print(proveedor1[condicion2])"
   ]
  },
  {
   "cell_type": "code",
   "execution_count": 60,
   "metadata": {},
   "outputs": [
    {
     "name": "stdout",
     "output_type": "stream",
     "text": [
      "<class 'pandas.core.frame.DataFrame'>\n",
      "RangeIndex: 4862029 entries, 0 to 4862028\n",
      "Data columns (total 5 columns):\n",
      " #   Column    Dtype  \n",
      "---  ------    -----  \n",
      " 0   Sku       int64  \n",
      " 1   Date      object \n",
      " 2   Store_Id  int64  \n",
      " 3   Pieces    float64\n",
      " 4   Price     object \n",
      "dtypes: float64(1), int64(2), object(2)\n",
      "memory usage: 185.5+ MB\n"
     ]
    },
    {
     "data": {
      "text/html": [
       "<div>\n",
       "<style scoped>\n",
       "    .dataframe tbody tr th:only-of-type {\n",
       "        vertical-align: middle;\n",
       "    }\n",
       "\n",
       "    .dataframe tbody tr th {\n",
       "        vertical-align: top;\n",
       "    }\n",
       "\n",
       "    .dataframe thead th {\n",
       "        text-align: right;\n",
       "    }\n",
       "</style>\n",
       "<table border=\"1\" class=\"dataframe\">\n",
       "  <thead>\n",
       "    <tr style=\"text-align: right;\">\n",
       "      <th></th>\n",
       "      <th>Sku</th>\n",
       "      <th>Date</th>\n",
       "      <th>Store_Id</th>\n",
       "      <th>Pieces</th>\n",
       "      <th>Price</th>\n",
       "    </tr>\n",
       "  </thead>\n",
       "  <tbody>\n",
       "    <tr>\n",
       "      <th>0</th>\n",
       "      <td>4240039</td>\n",
       "      <td>2016/01/01</td>\n",
       "      <td>1000</td>\n",
       "      <td>23.0</td>\n",
       "      <td>$16.00</td>\n",
       "    </tr>\n",
       "    <tr>\n",
       "      <th>1</th>\n",
       "      <td>4240039</td>\n",
       "      <td>2016/01/01</td>\n",
       "      <td>1001</td>\n",
       "      <td>116.0</td>\n",
       "      <td>$16.00</td>\n",
       "    </tr>\n",
       "    <tr>\n",
       "      <th>2</th>\n",
       "      <td>4240039</td>\n",
       "      <td>2016/01/01</td>\n",
       "      <td>1002</td>\n",
       "      <td>146.0</td>\n",
       "      <td>$16.00</td>\n",
       "    </tr>\n",
       "    <tr>\n",
       "      <th>3</th>\n",
       "      <td>4240039</td>\n",
       "      <td>2016/01/01</td>\n",
       "      <td>1003</td>\n",
       "      <td>17.0</td>\n",
       "      <td>$16.80</td>\n",
       "    </tr>\n",
       "    <tr>\n",
       "      <th>4</th>\n",
       "      <td>4240039</td>\n",
       "      <td>2016/01/01</td>\n",
       "      <td>1004</td>\n",
       "      <td>5.0</td>\n",
       "      <td>$16.70</td>\n",
       "    </tr>\n",
       "  </tbody>\n",
       "</table>\n",
       "</div>"
      ],
      "text/plain": [
       "       Sku        Date  Store_Id  Pieces   Price\n",
       "0  4240039  2016/01/01      1000    23.0  $16.00\n",
       "1  4240039  2016/01/01      1001   116.0  $16.00\n",
       "2  4240039  2016/01/01      1002   146.0  $16.00\n",
       "3  4240039  2016/01/01      1003    17.0  $16.80\n",
       "4  4240039  2016/01/01      1004     5.0  $16.70"
      ]
     },
     "execution_count": 60,
     "metadata": {},
     "output_type": "execute_result"
    }
   ],
   "source": [
    "info2 = proveedor2.info()\n",
    "head2 = proveedor2.head()\n",
    "head2"
   ]
  },
  {
   "cell_type": "code",
   "execution_count": 44,
   "metadata": {},
   "outputs": [
    {
     "data": {
      "text/plain": [
       "3290274      58\n",
       "1751549      58\n",
       "1528959      58\n",
       "4320516      58\n",
       "4530992      58\n",
       "           ... \n",
       "2398887    5855\n",
       "4701668    5855\n",
       "2017359    5855\n",
       "3969871    5855\n",
       "2424106    5855\n",
       "Name: Store_Id, Length: 4862029, dtype: int64"
      ]
     },
     "execution_count": 44,
     "metadata": {},
     "output_type": "execute_result"
    }
   ],
   "source": [
    "date = proveedor2.Date.sort_values()\n",
    "store = proveedor2.Store_Id.sort_values()\n",
    "store"
   ]
  },
  {
   "cell_type": "code",
   "execution_count": 67,
   "metadata": {},
   "outputs": [
    {
     "name": "stdout",
     "output_type": "stream",
     "text": [
      "             Sku        Date  Store_Id  Pieces  Price\n",
      "813      4240039  2016/01/01      3113    -6.0  16.00\n",
      "4755     4240039  2016/10/31      2092    -9.0  16.40\n",
      "5966     4240039  2016/11/01      1641   -28.0  15.90\n",
      "19010    4240039  2016/11/10      3089    -8.0  16.80\n",
      "40607    4240039  2016/11/26      1623    -1.0  15.50\n",
      "...          ...         ...       ...     ...    ...\n",
      "4847538  4729193  2016/12/01      1038   -47.0  17.90\n",
      "4848975  4729193  2016/12/03      3902    -4.0  17.90\n",
      "4850934  4729193  2016/12/07      2766    -2.0  18.55\n",
      "4851358  4729193  2016/12/08      2540    -2.0  18.00\n",
      "4861928  4729193  2016/12/30      3875    -4.0  17.90\n",
      "\n",
      "[293 rows x 5 columns]\n",
      "             Sku        Date  Store_Id  Pieces  Price\n",
      "779481   4270121  2016/02/07      1486     1.8 -10.37\n",
      "1158518  4290336  2016/04/18      3053     0.9 -23.50\n",
      "4208500  4635546  2016/10/31      1408     1.0  -0.02\n"
     ]
    }
   ],
   "source": [
    "#Comprobemos cuantas unidades negativas hay en proveedor2\n",
    "condicion3 = proveedor2.Pieces <= 0\n",
    "print(proveedor2[condicion3])\n",
    "#Comprobemos cuantos precios estan en negativo en proveedor2\n",
    "\n",
    "condicion4 = proveedor2.Price <= 0\n",
    "print(proveedor2[condicion4])"
   ]
  },
  {
   "cell_type": "code",
   "execution_count": null,
   "metadata": {},
   "outputs": [],
   "source": []
  }
 ],
 "metadata": {
  "kernelspec": {
   "display_name": "Python 3",
   "language": "python",
   "name": "python3"
  },
  "language_info": {
   "codemirror_mode": {
    "name": "ipython",
    "version": 3
   },
   "file_extension": ".py",
   "mimetype": "text/x-python",
   "name": "python",
   "nbconvert_exporter": "python",
   "pygments_lexer": "ipython3",
   "version": "3.11.3"
  },
  "orig_nbformat": 4
 },
 "nbformat": 4,
 "nbformat_minor": 2
}
