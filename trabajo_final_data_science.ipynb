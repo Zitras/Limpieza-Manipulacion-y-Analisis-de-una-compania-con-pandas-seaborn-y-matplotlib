{
 "cells": [
  {
   "cell_type": "code",
   "execution_count": 1,
   "metadata": {},
   "outputs": [],
   "source": [
    "import pandas as pd\n",
    "import matplotlib.pyplot as plt\n",
    "import numpy as np\n",
    "import seaborn as sns"
   ]
  },
  {
   "cell_type": "code",
   "execution_count": null,
   "metadata": {},
   "outputs": [],
   "source": [
    "print('hello World')"
   ]
  },
  {
   "cell_type": "code",
   "execution_count": 7,
   "metadata": {},
   "outputs": [],
   "source": [
    "m_clientes = pd.read_excel('maestro_clientes.xlsx')\n",
    "m_productos = pd.read_csv('maestro_productos.csv')\n",
    "sellin_total = pd.read_csv('sellin-total.csv')\n",
    "proveedor1 = pd.read_csv('sellout-proveedor1.csv')\n",
    "proveedor2 = pd.read_csv('sellout-proveedor2.csv')"
   ]
  },
  {
   "cell_type": "code",
   "execution_count": 6,
   "metadata": {},
   "outputs": [
    {
     "data": {
      "text/html": [
       "<div>\n",
       "<style scoped>\n",
       "    .dataframe tbody tr th:only-of-type {\n",
       "        vertical-align: middle;\n",
       "    }\n",
       "\n",
       "    .dataframe tbody tr th {\n",
       "        vertical-align: top;\n",
       "    }\n",
       "\n",
       "    .dataframe thead th {\n",
       "        text-align: right;\n",
       "    }\n",
       "</style>\n",
       "<table border=\"1\" class=\"dataframe\">\n",
       "  <thead>\n",
       "    <tr style=\"text-align: right;\">\n",
       "      <th></th>\n",
       "      <th>Sku</th>\n",
       "      <th>Sku_Description</th>\n",
       "      <th>Sku_Category</th>\n",
       "      <th>Sku_Subcategory</th>\n",
       "    </tr>\n",
       "  </thead>\n",
       "  <tbody>\n",
       "    <tr>\n",
       "      <th>0</th>\n",
       "      <td>11058</td>\n",
       "      <td>Frosted Mango</td>\n",
       "      <td>Sugar-free</td>\n",
       "      <td>Cereal bars</td>\n",
       "    </tr>\n",
       "    <tr>\n",
       "      <th>1</th>\n",
       "      <td>29207</td>\n",
       "      <td>Nut Cheerios Mango</td>\n",
       "      <td>Super-flavour</td>\n",
       "      <td>Cereal box</td>\n",
       "    </tr>\n",
       "    <tr>\n",
       "      <th>2</th>\n",
       "      <td>38379</td>\n",
       "      <td>MultiGrain Mango</td>\n",
       "      <td>Sugar-free</td>\n",
       "      <td>Cereal bars</td>\n",
       "    </tr>\n",
       "    <tr>\n",
       "      <th>3</th>\n",
       "      <td>42671</td>\n",
       "      <td>Crunch Mango</td>\n",
       "      <td>Sugar-free</td>\n",
       "      <td>Cereal bars</td>\n",
       "    </tr>\n",
       "    <tr>\n",
       "      <th>4</th>\n",
       "      <td>54644</td>\n",
       "      <td>Corn Mango</td>\n",
       "      <td>Sugar-free</td>\n",
       "      <td>Cereal bars</td>\n",
       "    </tr>\n",
       "  </tbody>\n",
       "</table>\n",
       "</div>"
      ],
      "text/plain": [
       "     Sku      Sku_Description   Sku_Category Sku_Subcategory\n",
       "0  11058       Frosted Mango      Sugar-free     Cereal bars\n",
       "1  29207  Nut Cheerios Mango   Super-flavour      Cereal box\n",
       "2  38379    MultiGrain Mango      Sugar-free     Cereal bars\n",
       "3  42671        Crunch Mango      Sugar-free     Cereal bars\n",
       "4  54644          Corn Mango      Sugar-free     Cereal bars"
      ]
     },
     "execution_count": 6,
     "metadata": {},
     "output_type": "execute_result"
    }
   ],
   "source": [
    "m_productos.head()"
   ]
  },
  {
   "cell_type": "code",
   "execution_count": null,
   "metadata": {},
   "outputs": [],
   "source": [
    "cosa2=\"Otra cosilla\""
   ]
  },
  {
   "cell_type": "code",
   "execution_count": null,
   "metadata": {},
   "outputs": [],
   "source": [
    "cosa3= 'Una cosailla mas'"
   ]
  },
  {
   "cell_type": "code",
   "execution_count": null,
   "metadata": {},
   "outputs": [],
   "source": [
    "asas"
   ]
  }
 ],
 "metadata": {
  "kernelspec": {
   "display_name": "Python 3",
   "language": "python",
   "name": "python3"
  },
  "language_info": {
   "codemirror_mode": {
    "name": "ipython",
    "version": 3
   },
   "file_extension": ".py",
   "mimetype": "text/x-python",
   "name": "python",
   "nbconvert_exporter": "python",
   "pygments_lexer": "ipython3",
   "version": "3.11.3"
  },
  "orig_nbformat": 4
 },
 "nbformat": 4,
 "nbformat_minor": 2
}
