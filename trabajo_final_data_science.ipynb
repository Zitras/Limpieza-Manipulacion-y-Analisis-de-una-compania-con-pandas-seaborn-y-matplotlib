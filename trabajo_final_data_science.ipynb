{
 "cells": [
  {
   "attachments": {},
   "cell_type": "markdown",
   "metadata": {},
   "source": [
    "<font size=\"4\">**1.** Importamos los archivos y cargamos las librerías</font>"
   ]
  },
  {
   "cell_type": "code",
   "execution_count": 2,
   "metadata": {},
   "outputs": [],
   "source": [
    "import pandas as pd\n",
    "import matplotlib.pyplot as plt\n",
    "import numpy as np\n",
    "import seaborn as sns"
   ]
  },
  {
   "cell_type": "code",
   "execution_count": 4,
   "metadata": {},
   "outputs": [],
   "source": [
    "m_clientes = pd.read_excel('maestro_clientes.xlsx')\n",
    "m_productos = pd.read_csv('maestro_productos.csv')\n",
    "sellin_total = pd.read_csv('sellin-total.csv')\n",
    "proveedor1 = pd.read_csv('sellout-proveedor1.csv')\n",
    "proveedor2 = pd.read_csv('sellout-proveedor2.csv')"
   ]
  },
  {
   "attachments": {},
   "cell_type": "markdown",
   "metadata": {},
   "source": [
    "<font size=\"4\">**2.** Exploramos 'm_clientes'</font>"
   ]
  },
  {
   "cell_type": "code",
   "execution_count": null,
   "metadata": {},
   "outputs": [],
   "source": [
    "#Exploramos clientes\n",
    "m_clientes.head(5)"
   ]
  },
  {
   "cell_type": "code",
   "execution_count": null,
   "metadata": {},
   "outputs": [],
   "source": [
    "#Observamos que hay 4 identificadores repetidos: 2568, 143, 240 y 58\n",
    "counts = m_clientes['NUM TDA'].value_counts()\n",
    "repeated_values = counts[counts > 1]\n",
    "print(repeated_values)\n",
    "#Pero comprobamos esos valores y vemos que, \n",
    "# pese a que su numero de identificacion coincide, hay diferencias entre las tiendas.\n",
    "lista_valores = [2568, 143, 240, 58]\n",
    "condicion = m_clientes['NUM TDA'].isin(lista_valores)\n",
    "m_clientes[condicion].sort_values('NUM TDA')"
   ]
  },
  {
   "cell_type": "code",
   "execution_count": null,
   "metadata": {},
   "outputs": [],
   "source": [
    "conteo_nombres = m_clientes['NOMBRE DE TDA'].value_counts()\n",
    "\n",
    "# Vemos que la mayoría aparecen solo una vez\n",
    "fig, ax = plt.subplots()\n",
    "conteo.plot.bar(ax=ax)\n",
    "ax.set_xlabel('Nombre de la TDA')\n",
    "ax.set_ylabel('Conteo')\n",
    "ax.set_title('Conteo de apariciones por TDA')\n",
    "plt.show()"
   ]
  },
  {
   "cell_type": "code",
   "execution_count": null,
   "metadata": {},
   "outputs": [],
   "source": [
    "#Evaluemos el resto para ver qué valores contiene cada columna\n",
    "conteo_cadena = m_clientes['CADENA'].value_counts()\n",
    "conteo_formato = m_clientes['FORMATO'].value_counts()\n",
    "conteo_ciudad = m_clientes['MUNICIPIO/CIUDAD'].value_counts()\n",
    "conteo_estado = m_clientes['ESTADO'].value_counts()\n",
    "conteo_division = m_clientes['DIVISION'].value_counts()\n",
    "conteo_distribuidor = m_clientes['DEPOSITO / DISTRIBUIDOR'].value_counts()\n",
    "conteo_estructura = m_clientes['ESTRUCTURA'].value_counts()\n",
    "conteo_grado = m_clientes['GRADO'].value_counts()\n",
    "\n",
    "print(\"Conteo de valores para 'CADENA':\")\n",
    "print(conteo_cadena)\n",
    "\n",
    "print(\"\\n Conteo de valores para 'FORMATO':\")\n",
    "print(conteo_formato)\n",
    "\n",
    "print(\"\\n Conteo de valores para 'MUNICIPIO/CIUDAD':\")\n",
    "print(conteo_ciudad)\n",
    "\n",
    "print(\"\\n Conteo de valores para 'ESTADO':\")\n",
    "print(conteo_estado)\n",
    "\n",
    "print(\"\\n Conteo de valores para 'DIVISION':\")\n",
    "print(conteo_division)\n",
    "\n",
    "print(\"\\n Conteo de valores para 'DEPOSITO / DISTRIBUIDOR':\")\n",
    "print(conteo_distribuidor)\n",
    "\n",
    "print(\"\\n Conteo de valores para 'ESTRUCTURA':\")\n",
    "print(conteo_estructura)\n",
    "\n",
    "print(\"\\n Conteo de valores para 'GRADO':\")\n",
    "print(conteo_grado)"
   ]
  },
  {
   "cell_type": "code",
   "execution_count": null,
   "metadata": {},
   "outputs": [],
   "source": [
    "#Por último, evaluemos si hay NaN\n",
    "hay_na = m_clientes.isna().any()\n",
    "print(hay_na)"
   ]
  }
 ],
 "metadata": {
  "kernelspec": {
   "display_name": "Python 3",
   "language": "python",
   "name": "python3"
  },
  "language_info": {
   "codemirror_mode": {
    "name": "ipython",
    "version": 3
   },
   "file_extension": ".py",
   "mimetype": "text/x-python",
   "name": "python",
   "nbconvert_exporter": "python",
   "pygments_lexer": "ipython3",
   "version": "3.11.3"
  },
  "orig_nbformat": 4
 },
 "nbformat": 4,
 "nbformat_minor": 2
}
