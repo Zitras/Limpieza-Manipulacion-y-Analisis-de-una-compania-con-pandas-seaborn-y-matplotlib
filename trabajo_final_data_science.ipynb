{
 "cells": [
  {
   "attachments": {},
   "cell_type": "markdown",
   "metadata": {},
   "source": [
    "<font size=\"4\">**1.** Importamos los archivos y cargamos las librerías</font>"
   ]
  },
  {
   "cell_type": "code",
   "execution_count": 2,
   "metadata": {},
   "outputs": [],
   "source": [
    "import pandas as pd\n",
    "import matplotlib.pyplot as plt\n",
    "import numpy as np\n",
    "import seaborn as sns"
   ]
  },
  {
   "cell_type": "code",
   "execution_count": 3,
   "metadata": {},
   "outputs": [],
   "source": [
    "m_clientes = pd.read_excel('maestro_clientes.xlsx')\n",
    "m_productos = pd.read_csv('maestro_productos.csv')\n",
    "sellin_total = pd.read_csv('sellin-total.csv')\n",
    "proveedor1 = pd.read_csv('sellout-proveedor1.csv')\n",
    "proveedor2 = pd.read_csv('sellout-proveedor2.csv')"
   ]
  },
  {
   "attachments": {},
   "cell_type": "markdown",
   "metadata": {},
   "source": [
    "<font size=\"4\">**2.** Exploramos 'm_clientes'</font>"
   ]
  },
  {
   "cell_type": "code",
   "execution_count": null,
   "metadata": {},
   "outputs": [],
   "source": [
    "#Observamos que hay 4 identificadores repetidos: 2568, 143, 240 y 58\n",
    "counts = m_clientes['NUM TDA'].value_counts()\n",
    "repeated_values = counts[counts > 1]\n",
    "print(repeated_values)\n",
    "#Pero comprobamos esos valores y vemos que, \n",
    "# pese a que su numero de identificacion coincide, hay diferencias entre las tiendas.\n",
    "lista_valores = [2568, 143, 240, 58]\n",
    "condicion = m_clientes['NUM TDA'].isin(lista_valores)\n",
    "m_clientes[condicion].sort_values('NUM TDA')"
   ]
  },
  {
   "cell_type": "code",
   "execution_count": null,
   "metadata": {},
   "outputs": [],
   "source": [
    "conteo_nombres = m_clientes['NOMBRE DE TDA'].value_counts()\n",
    "\n",
    "# Vemos que la mayoría aparecen solo una vez\n",
    "fig, ax = plt.subplots()\n",
    "conteo.plot.bar(ax=ax)\n",
    "ax.set_xlabel('Nombre de la TDA')\n",
    "ax.set_ylabel('Conteo')\n",
    "ax.set_title('Conteo de apariciones por TDA')\n",
    "plt.show()"
   ]
  },
  {
   "cell_type": "code",
   "execution_count": null,
   "metadata": {},
   "outputs": [],
   "source": [
    "wqdqwdqwd\n",
    "\n",
    "print(\"\\n Conteo de valores para 'FORMATO':\")\n",
    "print(conteo_formato)\n",
    "\n",
    "print(\"\\n Conteo de valores para 'MUNICIPIO/CIUDAD':\")\n",
    "print(conteo_ciudad)\n",
    "\n",
    "print(\"\\n Conteo de valores para 'ESTADO':\")\n",
    "print(conteo_estado)\n",
    "\n",
    "print(\"\\n Conteo de valores para 'DIVISION':\")\n",
    "print(conteo_division)\n",
    "\n",
    "print(\"\\n Conteo de valores para 'DEPOSITO / DISTRIBUIDOR':\")\n",
    "print(conteo_distribuidor)\n",
    "\n",
    "print(\"\\n Conteo de valores para 'ESTRUCTURA':\")\n",
    "print(conteo_estructura)\n",
    "\n",
    "print(\"\\n CIPOTE GORDO:\")\n",
    "print(conteo_grado)"
   ]
  },
  {
   "cell_type": "code",
   "execution_count": null,
   "metadata": {},
   "outputs": [],
   "source": [
    "#Evaluemos si hay NaN\n",
    "hay_na = m_clientes.isna().any()\n",
    "print(hay_na)"
   ]
  },
  {
   "cell_type": "code",
   "execution_count": null,
   "metadata": {},
   "outputs": [],
   "source": [
    "#Comprobamos que la columna 'Store_Id' coincide con 'NUM TDA' , por lo que habrá que cambiarle el nombre\n",
    "values_sellin = sellin_total.Store_Id.sort_values()\n",
    "values_clientes = m_clientes['NUM TDA'].sort_values()\n",
    "values_prov1 = proveedor1.Store_Id.sort_values()\n",
    "values_prov2 = proveedor2.Store_Id.sort_values()\n",
    "print(f\"Valores sellin : {values_sellin}\")\n",
    "print(f\"\\n Valores clientes : {values_clientes}\")\n",
    "print(f\"Valores proveedor1 : {values_prov1}\")\n",
    "print(f\"Valores proveedor2 : {values_prov2}\")\n"
   ]
  },
  {
   "attachments": {},
   "cell_type": "markdown",
   "metadata": {},
   "source": [
    "<font size=\"4\">**3.** Exploramos 'm_productos'</font>"
   ]
  },
  {
   "cell_type": "code",
   "execution_count": 22,
   "metadata": {},
   "outputs": [
    {
     "data": {
      "text/html": [
       "<div>\n",
       "<style scoped>\n",
       "    .dataframe tbody tr th:only-of-type {\n",
       "        vertical-align: middle;\n",
       "    }\n",
       "\n",
       "    .dataframe tbody tr th {\n",
       "        vertical-align: top;\n",
       "    }\n",
       "\n",
       "    .dataframe thead th {\n",
       "        text-align: right;\n",
       "    }\n",
       "</style>\n",
       "<table border=\"1\" class=\"dataframe\">\n",
       "  <thead>\n",
       "    <tr style=\"text-align: right;\">\n",
       "      <th></th>\n",
       "      <th>Sku</th>\n",
       "      <th>Sku_Description</th>\n",
       "      <th>Sku_Category</th>\n",
       "      <th>Sku_Subcategory</th>\n",
       "    </tr>\n",
       "  </thead>\n",
       "  <tbody>\n",
       "    <tr>\n",
       "      <th>0</th>\n",
       "      <td>11058</td>\n",
       "      <td>Frosted Mango</td>\n",
       "      <td>Sugar-free</td>\n",
       "      <td>Cereal bars</td>\n",
       "    </tr>\n",
       "    <tr>\n",
       "      <th>1</th>\n",
       "      <td>29207</td>\n",
       "      <td>Nut Cheerios Mango</td>\n",
       "      <td>Super-flavour</td>\n",
       "      <td>Cereal box</td>\n",
       "    </tr>\n",
       "    <tr>\n",
       "      <th>2</th>\n",
       "      <td>38379</td>\n",
       "      <td>MultiGrain Mango</td>\n",
       "      <td>Sugar-free</td>\n",
       "      <td>Cereal bars</td>\n",
       "    </tr>\n",
       "    <tr>\n",
       "      <th>3</th>\n",
       "      <td>42671</td>\n",
       "      <td>Crunch Mango</td>\n",
       "      <td>Sugar-free</td>\n",
       "      <td>Cereal bars</td>\n",
       "    </tr>\n",
       "    <tr>\n",
       "      <th>4</th>\n",
       "      <td>54644</td>\n",
       "      <td>Corn Mango</td>\n",
       "      <td>Sugar-free</td>\n",
       "      <td>Cereal bars</td>\n",
       "    </tr>\n",
       "  </tbody>\n",
       "</table>\n",
       "</div>"
      ],
      "text/plain": [
       "     Sku      Sku_Description   Sku_Category Sku_Subcategory\n",
       "0  11058       Frosted Mango      Sugar-free     Cereal bars\n",
       "1  29207  Nut Cheerios Mango   Super-flavour      Cereal box\n",
       "2  38379    MultiGrain Mango      Sugar-free     Cereal bars\n",
       "3  42671        Crunch Mango      Sugar-free     Cereal bars\n",
       "4  54644          Corn Mango      Sugar-free     Cereal bars"
      ]
     },
     "execution_count": 22,
     "metadata": {},
     "output_type": "execute_result"
    }
   ],
   "source": [
    "m_productos.head()"
   ]
  },
  {
   "cell_type": "code",
   "execution_count": 23,
   "metadata": {},
   "outputs": [
    {
     "name": "stdout",
     "output_type": "stream",
     "text": [
      "Sku                False\n",
      "Sku_Description    False\n",
      "Sku_Category       False\n",
      "Sku_Subcategory    False\n",
      "dtype: bool\n"
     ]
    }
   ],
   "source": [
    "#Evaluemos si hay NaN\n",
    "hay_na = m_productos.isna().any()\n",
    "print(hay_na)"
   ]
  },
  {
   "cell_type": "code",
   "execution_count": 27,
   "metadata": {},
   "outputs": [
    {
     "name": "stdout",
     "output_type": "stream",
     "text": [
      "False    1242\n",
      "Name: count, dtype: int64\n"
     ]
    }
   ],
   "source": [
    "#Evaluemos si hay Duplicados\n",
    "hay_na = m_productos.duplicated().value_counts()\n",
    "print(hay_na)"
   ]
  },
  {
   "cell_type": "code",
   "execution_count": 29,
   "metadata": {},
   "outputs": [
    {
     "name": "stdout",
     "output_type": "stream",
     "text": [
      "Sku_Category\n",
      "Sugar-free       961\n",
      "Super-flavour    281\n",
      "Name: count, dtype: int64\n"
     ]
    }
   ],
   "source": [
    "#Veamos las categorías. Solo hay 2: Sugar-free Super-flavour\n",
    "categorias = m_productos.Sku_Category.value_counts()\n",
    "print(categorias)"
   ]
  },
  {
   "cell_type": "code",
   "execution_count": 30,
   "metadata": {},
   "outputs": [
    {
     "name": "stdout",
     "output_type": "stream",
     "text": [
      "Sku_Subcategory\n",
      "Cereal box     887\n",
      "Cereal bars    354\n",
      "LECHES UHT       1\n",
      "Name: count, dtype: int64\n"
     ]
    }
   ],
   "source": [
    "#Veamos las subcategorías. Hay 2 e incluye LECHES UHT\n",
    "categorias = m_productos.Sku_Subcategory.value_counts()\n",
    "print(categorias)"
   ]
  },
  {
   "cell_type": "code",
   "execution_count": 31,
   "metadata": {},
   "outputs": [
    {
     "name": "stdout",
     "output_type": "stream",
     "text": [
      "         Sku Sku_Description Sku_Category Sku_Subcategory\n",
      "499  5007624       Corn Orio   Sugar-free      LECHES UHT\n"
     ]
    }
   ],
   "source": [
    "condicion = m_productos['Sku_Subcategory'] == 'LECHES UHT'\n",
    "print(m_productos[condicion])"
   ]
  },
  {
   "cell_type": "code",
   "execution_count": null,
   "metadata": {},
   "outputs": [],
   "source": []
  }
 ],
 "metadata": {
  "kernelspec": {
   "display_name": "Python 3",
   "language": "python",
   "name": "python3"
  },
  "language_info": {
   "codemirror_mode": {
    "name": "ipython",
    "version": 3
   },
   "file_extension": ".py",
   "mimetype": "text/x-python",
   "name": "python",
   "nbconvert_exporter": "python",
   "pygments_lexer": "ipython3",
   "version": "3.11.3"
  },
  "orig_nbformat": 4
 },
 "nbformat": 4,
 "nbformat_minor": 2
}
